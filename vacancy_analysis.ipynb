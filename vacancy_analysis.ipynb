{
 "cells": [
  {
   "cell_type": "markdown",
   "metadata": {
    "id": "qcjvKMTCbP00"
   },
   "source": [
    "# Анализ вакансий DS и DA"
   ]
  },
  {
   "cell_type": "markdown",
   "metadata": {},
   "source": [
    "**Описание проекта:** <br>\n",
    "\n",
    "Исследование различий между вакансиями Data Scientist и Data Analyst."
   ]
  },
  {
   "cell_type": "markdown",
   "metadata": {},
   "source": [
    "**Цель исследования:** <br>\n",
    "\n",
    "Показать чем различаются вакансии Data Scientist и Data Analyst."
   ]
  },
  {
   "cell_type": "markdown",
   "metadata": {},
   "source": [
    "**План работы:**\n",
    "\n",
    "1) Загрузим данные и подготовим их к анализу.\n",
    "2) Проведем исследовательский анализ данных.\n",
    "3) Определение доли грейдов Junior, Junior+, Middle, Senior среди вакансий Аналитик данных и Специалист по Data Science.\n",
    "4) Определение наиболее желаемых кандидатов на вакансии Аналитик данных и Специалист по Data Science по следующим параметрам: самые важные hard-skils, самые важные soft-skils. Ответ отдельно дайте для грейдов Junior, Junior+, Middle, Senior.\n",
    "5) Определение типичного места работы для Аналитика данных и специалист по Data Science по следующим параметрам: ТОП-работодателей, зарплата, тип занятости, график работы. Ответ отдельно дайте для грейдов Junior, Junior+, Middle, Senior.\n",
    "6) Расчет помесячной динамики количества вакансий для Аналитика данных и специалиста по Data Science. Ответ отдельно дайте для грейдов Junior, Junior+, Middle, Senior.\n",
    "7) Формулирование выводов и рекомендаций.\n",
    "8) Создание презентации."
   ]
  },
  {
   "cell_type": "markdown",
   "metadata": {},
   "source": [
    "**Описание данных:**\n",
    "\n",
    "В нашем распоряжении два датасета о вакансиях представленных на сайте HH.ru c 2024-02-29 по 2024-05-07. Данные получены из API HH.ru.\n",
    "\n",
    "`da.csv` - вакансии аналитиков данных\n",
    "`ds.csv` - вакансии датасаентистов\n",
    "\n",
    "Столбцы в двух таблицах идентичны:\n",
    "\n",
    "- `id` -  уникальный номер вакансии\n",
    "- `name` - название вакансии\n",
    "- `published_at` - дата публикации вакансии(Для каждой вакансии мы сохраням только первую дату публикации)\n",
    "- `alternate_url` - ссылка на вакансию\n",
    "- `type` - тип вакансии\n",
    "- `employer` - работодатель\n",
    "- `department` - подразделение работодателя\n",
    "- `area` - регион вакансии\n",
    "- `experience` - требуемый опыт работы\n",
    "- `key_skills` - требуемые скиллы\n",
    "- `schedule` - график работы\n",
    "- `employment` - тип занятости\n",
    "- `description` - подробное описание вакансии\n",
    "- `salary_from` - зарплата от\n",
    "- `salary_to` -  зарплата до"
   ]
  },
  {
   "cell_type": "markdown",
   "metadata": {},
   "source": [
    "## Загрузим данные и подготовим их к анализу"
   ]
  },
  {
   "cell_type": "code",
   "execution_count": 60,
   "metadata": {},
   "outputs": [],
   "source": [
    "import pandas as pd\n",
    "from pymystem3 import Mystem\n",
    "import numpy as np\n",
    "from tqdm.notebook import tqdm\n",
    "import re"
   ]
  },
  {
   "cell_type": "markdown",
   "metadata": {},
   "source": [
    "---"
   ]
  },
  {
   "cell_type": "markdown",
   "metadata": {},
   "source": [
    "#### Посмотрим как выглядят данные"
   ]
  },
  {
   "cell_type": "code",
   "execution_count": 2,
   "metadata": {},
   "outputs": [
    {
     "data": {
      "text/html": [
       "<div>\n",
       "<style scoped>\n",
       "    .dataframe tbody tr th:only-of-type {\n",
       "        vertical-align: middle;\n",
       "    }\n",
       "\n",
       "    .dataframe tbody tr th {\n",
       "        vertical-align: top;\n",
       "    }\n",
       "\n",
       "    .dataframe thead th {\n",
       "        text-align: right;\n",
       "    }\n",
       "</style>\n",
       "<table border=\"1\" class=\"dataframe\">\n",
       "  <thead>\n",
       "    <tr style=\"text-align: right;\">\n",
       "      <th></th>\n",
       "      <th>id</th>\n",
       "      <th>name</th>\n",
       "      <th>published_at</th>\n",
       "      <th>alternate_url</th>\n",
       "      <th>type</th>\n",
       "      <th>employer</th>\n",
       "      <th>department</th>\n",
       "      <th>area</th>\n",
       "      <th>experience</th>\n",
       "      <th>key_skills</th>\n",
       "      <th>schedule</th>\n",
       "      <th>employment</th>\n",
       "      <th>description</th>\n",
       "      <th>salary_from</th>\n",
       "      <th>salary_to</th>\n",
       "    </tr>\n",
       "  </thead>\n",
       "  <tbody>\n",
       "    <tr>\n",
       "      <th>9</th>\n",
       "      <td>85053195</td>\n",
       "      <td>System analyst DWH / Data Analyst</td>\n",
       "      <td>2024-05-06 09:37:32</td>\n",
       "      <td>https://hh.ru/vacancy/85053195</td>\n",
       "      <td>Открытая</td>\n",
       "      <td>Axenix (ранее Accenture)</td>\n",
       "      <td>NaN</td>\n",
       "      <td>Краснодар</td>\n",
       "      <td>От 1 года до 3 лет</td>\n",
       "      <td>['SQL', 'DWH', 'Teradata', 'Hadoop', 'Airflow'...</td>\n",
       "      <td>Удаленная работа</td>\n",
       "      <td>Полная занятость</td>\n",
       "      <td>Компания Axenix (ранее Accenture) продолжает р...</td>\n",
       "      <td>NaN</td>\n",
       "      <td>NaN</td>\n",
       "    </tr>\n",
       "    <tr>\n",
       "      <th>449</th>\n",
       "      <td>96401308</td>\n",
       "      <td>Аналитик данных в образовательный трек</td>\n",
       "      <td>2024-04-22 11:52:35</td>\n",
       "      <td>https://hh.ru/vacancy/96401308</td>\n",
       "      <td>Открытая</td>\n",
       "      <td>Умскул</td>\n",
       "      <td>NaN</td>\n",
       "      <td>Москва</td>\n",
       "      <td>От 1 года до 3 лет</td>\n",
       "      <td>['Математическая статистика', 'SQL', 'BI инстр...</td>\n",
       "      <td>Удаленная работа</td>\n",
       "      <td>Полная занятость</td>\n",
       "      <td>Умскул — крупнейшая в России онлайн-школа подг...</td>\n",
       "      <td>NaN</td>\n",
       "      <td>NaN</td>\n",
       "    </tr>\n",
       "    <tr>\n",
       "      <th>703</th>\n",
       "      <td>97221381</td>\n",
       "      <td>Аналитик данных CRM</td>\n",
       "      <td>2024-04-17 13:10:57</td>\n",
       "      <td>https://hh.ru/vacancy/97221381</td>\n",
       "      <td>Открытая</td>\n",
       "      <td>AUXO (Атос АйТи Солюшенс энд Сервисез)</td>\n",
       "      <td>NaN</td>\n",
       "      <td>Москва</td>\n",
       "      <td>От 1 года до 3 лет</td>\n",
       "      <td>['CRM', 'MS SQL', 'Power BI']</td>\n",
       "      <td>Полный день</td>\n",
       "      <td>Полная занятость</td>\n",
       "      <td>Обязанности:  Проактивный анализ, оптимизация ...</td>\n",
       "      <td>NaN</td>\n",
       "      <td>NaN</td>\n",
       "    </tr>\n",
       "    <tr>\n",
       "      <th>1092</th>\n",
       "      <td>98428318</td>\n",
       "      <td>Преподаватель курса Аналитика данных (online)</td>\n",
       "      <td>2024-05-06 07:55:15</td>\n",
       "      <td>https://hh.ru/vacancy/98428318</td>\n",
       "      <td>Открытая</td>\n",
       "      <td>JustCode</td>\n",
       "      <td>NaN</td>\n",
       "      <td>Алматы</td>\n",
       "      <td>От 1 года до 3 лет</td>\n",
       "      <td>['Python', 'SQL', 'MS PowerPoint', 'Подготовка...</td>\n",
       "      <td>Удаленная работа</td>\n",
       "      <td>Частичная занятость</td>\n",
       "      <td>Чем предстоит заниматься:- подготовкой материа...</td>\n",
       "      <td>NaN</td>\n",
       "      <td>NaN</td>\n",
       "    </tr>\n",
       "    <tr>\n",
       "      <th>490</th>\n",
       "      <td>96523236</td>\n",
       "      <td>Аналитик данных (г. Шымкент)</td>\n",
       "      <td>2024-04-09 13:38:59</td>\n",
       "      <td>https://hh.ru/vacancy/96523236</td>\n",
       "      <td>Открытая</td>\n",
       "      <td>Компания ЭВРИКА</td>\n",
       "      <td>NaN</td>\n",
       "      <td>Шымкент</td>\n",
       "      <td>От 1 года до 3 лет</td>\n",
       "      <td>['SQL', 'Работа с большим объемом информации',...</td>\n",
       "      <td>Полный день</td>\n",
       "      <td>Полная занятость</td>\n",
       "      <td>Требования:  Знание SQL (DDL, DML) Знание Powe...</td>\n",
       "      <td>NaN</td>\n",
       "      <td>NaN</td>\n",
       "    </tr>\n",
       "  </tbody>\n",
       "</table>\n",
       "</div>"
      ],
      "text/plain": [
       "            id                                           name  \\\n",
       "9     85053195              System analyst DWH / Data Analyst   \n",
       "449   96401308         Аналитик данных в образовательный трек   \n",
       "703   97221381                            Аналитик данных CRM   \n",
       "1092  98428318  Преподаватель курса Аналитика данных (online)   \n",
       "490   96523236                   Аналитик данных (г. Шымкент)   \n",
       "\n",
       "            published_at                   alternate_url      type  \\\n",
       "9    2024-05-06 09:37:32  https://hh.ru/vacancy/85053195  Открытая   \n",
       "449  2024-04-22 11:52:35  https://hh.ru/vacancy/96401308  Открытая   \n",
       "703  2024-04-17 13:10:57  https://hh.ru/vacancy/97221381  Открытая   \n",
       "1092 2024-05-06 07:55:15  https://hh.ru/vacancy/98428318  Открытая   \n",
       "490  2024-04-09 13:38:59  https://hh.ru/vacancy/96523236  Открытая   \n",
       "\n",
       "                                    employer department       area  \\\n",
       "9                   Axenix (ранее Accenture)        NaN  Краснодар   \n",
       "449                                   Умскул        NaN     Москва   \n",
       "703   AUXO (Атос АйТи Солюшенс энд Сервисез)        NaN     Москва   \n",
       "1092                                JustCode        NaN     Алматы   \n",
       "490                          Компания ЭВРИКА        NaN    Шымкент   \n",
       "\n",
       "              experience                                         key_skills  \\\n",
       "9     От 1 года до 3 лет  ['SQL', 'DWH', 'Teradata', 'Hadoop', 'Airflow'...   \n",
       "449   От 1 года до 3 лет  ['Математическая статистика', 'SQL', 'BI инстр...   \n",
       "703   От 1 года до 3 лет                      ['CRM', 'MS SQL', 'Power BI']   \n",
       "1092  От 1 года до 3 лет  ['Python', 'SQL', 'MS PowerPoint', 'Подготовка...   \n",
       "490   От 1 года до 3 лет  ['SQL', 'Работа с большим объемом информации',...   \n",
       "\n",
       "              schedule           employment  \\\n",
       "9     Удаленная работа     Полная занятость   \n",
       "449   Удаленная работа     Полная занятость   \n",
       "703        Полный день     Полная занятость   \n",
       "1092  Удаленная работа  Частичная занятость   \n",
       "490        Полный день     Полная занятость   \n",
       "\n",
       "                                            description  salary_from  \\\n",
       "9     Компания Axenix (ранее Accenture) продолжает р...          NaN   \n",
       "449   Умскул — крупнейшая в России онлайн-школа подг...          NaN   \n",
       "703   Обязанности:  Проактивный анализ, оптимизация ...          NaN   \n",
       "1092  Чем предстоит заниматься:- подготовкой материа...          NaN   \n",
       "490   Требования:  Знание SQL (DDL, DML) Знание Powe...          NaN   \n",
       "\n",
       "      salary_to  \n",
       "9           NaN  \n",
       "449         NaN  \n",
       "703         NaN  \n",
       "1092        NaN  \n",
       "490         NaN  "
      ]
     },
     "execution_count": 2,
     "metadata": {},
     "output_type": "execute_result"
    }
   ],
   "source": [
    "# приведем published_at сразу в формат даты\n",
    "da = pd.read_csv('data/da.csv', parse_dates=['published_at'])\n",
    "da.sample(5)"
   ]
  },
  {
   "cell_type": "code",
   "execution_count": 3,
   "metadata": {},
   "outputs": [
    {
     "data": {
      "text/html": [
       "<div>\n",
       "<style scoped>\n",
       "    .dataframe tbody tr th:only-of-type {\n",
       "        vertical-align: middle;\n",
       "    }\n",
       "\n",
       "    .dataframe tbody tr th {\n",
       "        vertical-align: top;\n",
       "    }\n",
       "\n",
       "    .dataframe thead th {\n",
       "        text-align: right;\n",
       "    }\n",
       "</style>\n",
       "<table border=\"1\" class=\"dataframe\">\n",
       "  <thead>\n",
       "    <tr style=\"text-align: right;\">\n",
       "      <th></th>\n",
       "      <th>id</th>\n",
       "      <th>name</th>\n",
       "      <th>published_at</th>\n",
       "      <th>alternate_url</th>\n",
       "      <th>type</th>\n",
       "      <th>employer</th>\n",
       "      <th>department</th>\n",
       "      <th>area</th>\n",
       "      <th>experience</th>\n",
       "      <th>key_skills</th>\n",
       "      <th>schedule</th>\n",
       "      <th>employment</th>\n",
       "      <th>description</th>\n",
       "      <th>salary_from</th>\n",
       "      <th>salary_to</th>\n",
       "    </tr>\n",
       "  </thead>\n",
       "  <tbody>\n",
       "    <tr>\n",
       "      <th>385</th>\n",
       "      <td>95703069</td>\n",
       "      <td>Team Lead Data Science</td>\n",
       "      <td>2024-03-28 14:11:32</td>\n",
       "      <td>https://hh.ru/vacancy/95703069</td>\n",
       "      <td>Открытая</td>\n",
       "      <td>СБЕР</td>\n",
       "      <td>Сбер для экспертов</td>\n",
       "      <td>Москва</td>\n",
       "      <td>Middle (3-6 years)</td>\n",
       "      <td>['Юнит-экономика']</td>\n",
       "      <td>Полный день</td>\n",
       "      <td>Полная занятость</td>\n",
       "      <td>наша команда ai департамента развития корпорат...</td>\n",
       "      <td>NaN</td>\n",
       "      <td>NaN</td>\n",
       "    </tr>\n",
       "    <tr>\n",
       "      <th>731</th>\n",
       "      <td>98339658</td>\n",
       "      <td>Middle/Senior Data Scientist (команда СХ)</td>\n",
       "      <td>2024-05-03 13:54:03</td>\n",
       "      <td>https://hh.ru/vacancy/98339658</td>\n",
       "      <td>Открытая</td>\n",
       "      <td>СБЕР</td>\n",
       "      <td>Сбер для экспертов</td>\n",
       "      <td>Москва</td>\n",
       "      <td>От 3 до 6 лет</td>\n",
       "      <td>[]</td>\n",
       "      <td>Полный день</td>\n",
       "      <td>Полная занятость</td>\n",
       "      <td>Команда Клиентского опыта ПАО &amp;quot;Сбербанк&amp;q...</td>\n",
       "      <td>NaN</td>\n",
       "      <td>NaN</td>\n",
       "    </tr>\n",
       "    <tr>\n",
       "      <th>721</th>\n",
       "      <td>98275762</td>\n",
       "      <td>Data Scientist (Deep Learning), Рекомендации и...</td>\n",
       "      <td>2024-05-02 20:24:25</td>\n",
       "      <td>https://hh.ru/vacancy/98275762</td>\n",
       "      <td>Открытая</td>\n",
       "      <td>Ozon</td>\n",
       "      <td>Ozon Информационные технологии</td>\n",
       "      <td>Москва</td>\n",
       "      <td>От 3 до 6 лет</td>\n",
       "      <td>['IT', 'Разработка поисковых технологий', 'dat...</td>\n",
       "      <td>Удаленная работа</td>\n",
       "      <td>Полная занятость</td>\n",
       "      <td>Наша команда занимается персонализированным по...</td>\n",
       "      <td>NaN</td>\n",
       "      <td>NaN</td>\n",
       "    </tr>\n",
       "    <tr>\n",
       "      <th>528</th>\n",
       "      <td>96978877</td>\n",
       "      <td>Data Scientist/Analyst</td>\n",
       "      <td>2024-05-06 09:35:29</td>\n",
       "      <td>https://hh.ru/vacancy/96978877</td>\n",
       "      <td>Открытая</td>\n",
       "      <td>RapidSeedbox ltd</td>\n",
       "      <td>NaN</td>\n",
       "      <td>Санкт-Петербург</td>\n",
       "      <td>От 3 до 6 лет</td>\n",
       "      <td>['Google Analytics', 'Data Analysis', 'Python'...</td>\n",
       "      <td>Удаленная работа</td>\n",
       "      <td>Полная занятость</td>\n",
       "      <td>Our core values are: ✔️Excellence in everythin...</td>\n",
       "      <td>1000.0</td>\n",
       "      <td>1500.0</td>\n",
       "    </tr>\n",
       "    <tr>\n",
       "      <th>394</th>\n",
       "      <td>95728796</td>\n",
       "      <td>Data Scientist в отдел разработки скоринговых ...</td>\n",
       "      <td>2024-03-28 18:15:23</td>\n",
       "      <td>https://hh.ru/vacancy/95728796</td>\n",
       "      <td>Открытая</td>\n",
       "      <td>Тинькофф</td>\n",
       "      <td>NaN</td>\n",
       "      <td>Москва</td>\n",
       "      <td>Middle (3-6 years)</td>\n",
       "      <td>['Machine Learning', 'Pandas', 'Python', 'ML',...</td>\n",
       "      <td>Полный день</td>\n",
       "      <td>Полная занятость</td>\n",
       "      <td>принимаем решения на основе данных и тестов. и...</td>\n",
       "      <td>NaN</td>\n",
       "      <td>NaN</td>\n",
       "    </tr>\n",
       "  </tbody>\n",
       "</table>\n",
       "</div>"
      ],
      "text/plain": [
       "           id                                               name  \\\n",
       "385  95703069                             Team Lead Data Science   \n",
       "731  98339658          Middle/Senior Data Scientist (команда СХ)   \n",
       "721  98275762  Data Scientist (Deep Learning), Рекомендации и...   \n",
       "528  96978877                             Data Scientist/Analyst   \n",
       "394  95728796  Data Scientist в отдел разработки скоринговых ...   \n",
       "\n",
       "           published_at                   alternate_url      type  \\\n",
       "385 2024-03-28 14:11:32  https://hh.ru/vacancy/95703069  Открытая   \n",
       "731 2024-05-03 13:54:03  https://hh.ru/vacancy/98339658  Открытая   \n",
       "721 2024-05-02 20:24:25  https://hh.ru/vacancy/98275762  Открытая   \n",
       "528 2024-05-06 09:35:29  https://hh.ru/vacancy/96978877  Открытая   \n",
       "394 2024-03-28 18:15:23  https://hh.ru/vacancy/95728796  Открытая   \n",
       "\n",
       "             employer                      department             area  \\\n",
       "385              СБЕР              Сбер для экспертов           Москва   \n",
       "731              СБЕР              Сбер для экспертов           Москва   \n",
       "721              Ozon  Ozon Информационные технологии           Москва   \n",
       "528  RapidSeedbox ltd                             NaN  Санкт-Петербург   \n",
       "394          Тинькофф                             NaN           Москва   \n",
       "\n",
       "             experience                                         key_skills  \\\n",
       "385  Middle (3-6 years)                                 ['Юнит-экономика']   \n",
       "731       От 3 до 6 лет                                                 []   \n",
       "721       От 3 до 6 лет  ['IT', 'Разработка поисковых технологий', 'dat...   \n",
       "528       От 3 до 6 лет  ['Google Analytics', 'Data Analysis', 'Python'...   \n",
       "394  Middle (3-6 years)  ['Machine Learning', 'Pandas', 'Python', 'ML',...   \n",
       "\n",
       "             schedule        employment  \\\n",
       "385       Полный день  Полная занятость   \n",
       "731       Полный день  Полная занятость   \n",
       "721  Удаленная работа  Полная занятость   \n",
       "528  Удаленная работа  Полная занятость   \n",
       "394       Полный день  Полная занятость   \n",
       "\n",
       "                                           description  salary_from  salary_to  \n",
       "385  наша команда ai департамента развития корпорат...          NaN        NaN  \n",
       "731  Команда Клиентского опыта ПАО &quot;Сбербанк&q...          NaN        NaN  \n",
       "721  Наша команда занимается персонализированным по...          NaN        NaN  \n",
       "528  Our core values are: ✔️Excellence in everythin...       1000.0     1500.0  \n",
       "394  принимаем решения на основе данных и тестов. и...          NaN        NaN  "
      ]
     },
     "execution_count": 3,
     "metadata": {},
     "output_type": "execute_result"
    }
   ],
   "source": [
    "# приведем published_at сразу в формат даты\n",
    "ds = pd.read_csv('data/ds.csv', parse_dates=['published_at'])\n",
    "ds.sample(5)"
   ]
  },
  {
   "cell_type": "markdown",
   "metadata": {},
   "source": [
    "---"
   ]
  },
  {
   "cell_type": "markdown",
   "metadata": {},
   "source": [
    "#### Добавим флаговую переменную(которая будет принимать два значения \"da\" или \"ds\") и объеденим данные, чтобы на этапе обработке было удобнее с ними работать"
   ]
  },
  {
   "cell_type": "code",
   "execution_count": 5,
   "metadata": {},
   "outputs": [],
   "source": [
    "# Создаем переменные\n",
    "da['name_type'] = 'da'\n",
    "ds['name_type'] = 'ds'\n",
    "\n",
    "# объеденяем таблицы\n",
    "vacancies = pd.concat((da, ds))\n",
    "start_data_size = vacancies.shape[0]"
   ]
  },
  {
   "cell_type": "markdown",
   "metadata": {},
   "source": [
    "---"
   ]
  },
  {
   "cell_type": "markdown",
   "metadata": {},
   "source": [
    "Посмотрим общую информацию о датасете"
   ]
  },
  {
   "cell_type": "code",
   "execution_count": 6,
   "metadata": {},
   "outputs": [
    {
     "name": "stdout",
     "output_type": "stream",
     "text": [
      "<class 'pandas.core.frame.DataFrame'>\n",
      "Index: 1975 entries, 0 to 781\n",
      "Data columns (total 16 columns):\n",
      " #   Column         Non-Null Count  Dtype         \n",
      "---  ------         --------------  -----         \n",
      " 0   id             1975 non-null   int64         \n",
      " 1   name           1975 non-null   object        \n",
      " 2   published_at   1975 non-null   datetime64[ns]\n",
      " 3   alternate_url  1975 non-null   object        \n",
      " 4   type           1975 non-null   object        \n",
      " 5   employer       1975 non-null   object        \n",
      " 6   department     614 non-null    object        \n",
      " 7   area           1975 non-null   object        \n",
      " 8   experience     1975 non-null   object        \n",
      " 9   key_skills     1975 non-null   object        \n",
      " 10  schedule       1975 non-null   object        \n",
      " 11  employment     1975 non-null   object        \n",
      " 12  description    1975 non-null   object        \n",
      " 13  salary_from    275 non-null    float64       \n",
      " 14  salary_to      197 non-null    float64       \n",
      " 15  name_type      1975 non-null   object        \n",
      "dtypes: datetime64[ns](1), float64(2), int64(1), object(12)\n",
      "memory usage: 262.3+ KB\n"
     ]
    }
   ],
   "source": [
    "vacancies.info()"
   ]
  },
  {
   "cell_type": "markdown",
   "metadata": {},
   "source": [
    "Видно что работодатели зачастую не вносят информацию о зарплате."
   ]
  },
  {
   "cell_type": "markdown",
   "metadata": {},
   "source": [
    "---"
   ]
  },
  {
   "cell_type": "markdown",
   "metadata": {},
   "source": [
    "Мы хотим сравнить две когорты аналитиков и датасаентистов. В наших данных есть смежные вакансии - Аналитик данных/Data Scientist, так как непонятно к какой когорте их отнести, давайте посмотрим сколько этих данных в нашем датасете и удалим их."
   ]
  },
  {
   "cell_type": "code",
   "execution_count": 8,
   "metadata": {},
   "outputs": [
    {
     "data": {
      "text/html": [
       "<div>\n",
       "<style scoped>\n",
       "    .dataframe tbody tr th:only-of-type {\n",
       "        vertical-align: middle;\n",
       "    }\n",
       "\n",
       "    .dataframe tbody tr th {\n",
       "        vertical-align: top;\n",
       "    }\n",
       "\n",
       "    .dataframe thead th {\n",
       "        text-align: right;\n",
       "    }\n",
       "</style>\n",
       "<table border=\"1\" class=\"dataframe\">\n",
       "  <thead>\n",
       "    <tr style=\"text-align: right;\">\n",
       "      <th></th>\n",
       "      <th>id</th>\n",
       "      <th>name</th>\n",
       "      <th>published_at</th>\n",
       "      <th>alternate_url</th>\n",
       "      <th>type</th>\n",
       "      <th>employer</th>\n",
       "      <th>department</th>\n",
       "      <th>area</th>\n",
       "      <th>experience</th>\n",
       "      <th>key_skills</th>\n",
       "      <th>schedule</th>\n",
       "      <th>employment</th>\n",
       "      <th>description</th>\n",
       "      <th>salary_from</th>\n",
       "      <th>salary_to</th>\n",
       "      <th>name_type</th>\n",
       "    </tr>\n",
       "  </thead>\n",
       "  <tbody>\n",
       "    <tr>\n",
       "      <th>56</th>\n",
       "      <td>91765959</td>\n",
       "      <td>Дата аналитик (Data Scientist)</td>\n",
       "      <td>2024-04-04 10:10:44</td>\n",
       "      <td>https://hh.ru/vacancy/91765959</td>\n",
       "      <td>Открытая</td>\n",
       "      <td>Центр финансовых технологий</td>\n",
       "      <td>NaN</td>\n",
       "      <td>Санкт-Петербург</td>\n",
       "      <td>Junior+ (1-3 years)</td>\n",
       "      <td>['Pandas']</td>\n",
       "      <td>Полный день</td>\n",
       "      <td>Полная занятость</td>\n",
       "      <td>приглашаем в ml команду специалистов в области...</td>\n",
       "      <td>NaN</td>\n",
       "      <td>NaN</td>\n",
       "      <td>da</td>\n",
       "    </tr>\n",
       "    <tr>\n",
       "      <th>63</th>\n",
       "      <td>91765959</td>\n",
       "      <td>Дата аналитик (Data Scientist)</td>\n",
       "      <td>2024-04-04 10:10:44</td>\n",
       "      <td>https://hh.ru/vacancy/91765959</td>\n",
       "      <td>Открытая</td>\n",
       "      <td>Центр финансовых технологий</td>\n",
       "      <td>NaN</td>\n",
       "      <td>Санкт-Петербург</td>\n",
       "      <td>Junior+ (1-3 years)</td>\n",
       "      <td>['Pandas']</td>\n",
       "      <td>Полный день</td>\n",
       "      <td>Полная занятость</td>\n",
       "      <td>приглашаем в ml команду специалистов в области...</td>\n",
       "      <td>NaN</td>\n",
       "      <td>NaN</td>\n",
       "      <td>ds</td>\n",
       "    </tr>\n",
       "    <tr>\n",
       "      <th>64</th>\n",
       "      <td>91765960</td>\n",
       "      <td>Дата аналитик (Data Scientist)</td>\n",
       "      <td>2024-03-28 06:25:29</td>\n",
       "      <td>https://hh.ru/vacancy/91765960</td>\n",
       "      <td>Открытая</td>\n",
       "      <td>Центр финансовых технологий</td>\n",
       "      <td>NaN</td>\n",
       "      <td>Новосибирск</td>\n",
       "      <td>Junior+ (1-3 years)</td>\n",
       "      <td>['Pandas']</td>\n",
       "      <td>Полный день</td>\n",
       "      <td>Полная занятость</td>\n",
       "      <td>приглашаем в ml команду специалистов в области...</td>\n",
       "      <td>NaN</td>\n",
       "      <td>NaN</td>\n",
       "      <td>ds</td>\n",
       "    </tr>\n",
       "    <tr>\n",
       "      <th>57</th>\n",
       "      <td>91765960</td>\n",
       "      <td>Дата аналитик (Data Scientist)</td>\n",
       "      <td>2024-03-28 06:25:29</td>\n",
       "      <td>https://hh.ru/vacancy/91765960</td>\n",
       "      <td>Открытая</td>\n",
       "      <td>Центр финансовых технологий</td>\n",
       "      <td>NaN</td>\n",
       "      <td>Новосибирск</td>\n",
       "      <td>Junior+ (1-3 years)</td>\n",
       "      <td>['Pandas']</td>\n",
       "      <td>Полный день</td>\n",
       "      <td>Полная занятость</td>\n",
       "      <td>приглашаем в ml команду специалистов в области...</td>\n",
       "      <td>NaN</td>\n",
       "      <td>NaN</td>\n",
       "      <td>da</td>\n",
       "    </tr>\n",
       "    <tr>\n",
       "      <th>70</th>\n",
       "      <td>92068025</td>\n",
       "      <td>Аналитик данных (data scientist, data engineer)</td>\n",
       "      <td>2024-03-12 12:42:01</td>\n",
       "      <td>https://hh.ru/vacancy/92068025</td>\n",
       "      <td>Открытая</td>\n",
       "      <td>Федеральное государственное автономное учрежде...</td>\n",
       "      <td>NaN</td>\n",
       "      <td>Москва</td>\n",
       "      <td>Middle (3-6 years)</td>\n",
       "      <td>['Документация', 'Создание моделей', 'Оформлен...</td>\n",
       "      <td>Полный день</td>\n",
       "      <td>Полная занятость</td>\n",
       "      <td>в настоящее время фгау «нии «цэпп» расширяет к...</td>\n",
       "      <td>100000.0</td>\n",
       "      <td>NaN</td>\n",
       "      <td>ds</td>\n",
       "    </tr>\n",
       "    <tr>\n",
       "      <th>...</th>\n",
       "      <td>...</td>\n",
       "      <td>...</td>\n",
       "      <td>...</td>\n",
       "      <td>...</td>\n",
       "      <td>...</td>\n",
       "      <td>...</td>\n",
       "      <td>...</td>\n",
       "      <td>...</td>\n",
       "      <td>...</td>\n",
       "      <td>...</td>\n",
       "      <td>...</td>\n",
       "      <td>...</td>\n",
       "      <td>...</td>\n",
       "      <td>...</td>\n",
       "      <td>...</td>\n",
       "      <td>...</td>\n",
       "    </tr>\n",
       "    <tr>\n",
       "      <th>1160</th>\n",
       "      <td>98551181</td>\n",
       "      <td>Аналитик данных / Data Scientist (middle+)</td>\n",
       "      <td>2024-05-07 14:36:58</td>\n",
       "      <td>https://hh.ru/vacancy/98551181</td>\n",
       "      <td>Открытая</td>\n",
       "      <td>СИБУР, Группа компаний</td>\n",
       "      <td>Сибур</td>\n",
       "      <td>Москва</td>\n",
       "      <td>От 3 до 6 лет</td>\n",
       "      <td>['Python', 'SQL', 'Математическая статистика']</td>\n",
       "      <td>Полный день</td>\n",
       "      <td>Полная занятость</td>\n",
       "      <td>СИБУР Диджитал - это цифровой кластер в состав...</td>\n",
       "      <td>NaN</td>\n",
       "      <td>NaN</td>\n",
       "      <td>da</td>\n",
       "    </tr>\n",
       "    <tr>\n",
       "      <th>774</th>\n",
       "      <td>98573757</td>\n",
       "      <td>Аналитик данных/Data Scientist</td>\n",
       "      <td>2024-05-07 20:09:28</td>\n",
       "      <td>https://hh.ru/vacancy/98573757</td>\n",
       "      <td>Открытая</td>\n",
       "      <td>Консорциум Кодекс</td>\n",
       "      <td>NaN</td>\n",
       "      <td>Санкт-Петербург</td>\n",
       "      <td>От 1 года до 3 лет</td>\n",
       "      <td>['Machine Learning', 'Data Science', 'SQL', 'P...</td>\n",
       "      <td>Полный день</td>\n",
       "      <td>Полная занятость</td>\n",
       "      <td>Основные задачи:  Разработка, тестирование и в...</td>\n",
       "      <td>NaN</td>\n",
       "      <td>NaN</td>\n",
       "      <td>ds</td>\n",
       "    </tr>\n",
       "    <tr>\n",
       "      <th>1171</th>\n",
       "      <td>98573757</td>\n",
       "      <td>Аналитик данных/Data Scientist</td>\n",
       "      <td>2024-05-07 20:09:28</td>\n",
       "      <td>https://hh.ru/vacancy/98573757</td>\n",
       "      <td>Открытая</td>\n",
       "      <td>Консорциум Кодекс</td>\n",
       "      <td>NaN</td>\n",
       "      <td>Санкт-Петербург</td>\n",
       "      <td>От 1 года до 3 лет</td>\n",
       "      <td>['Machine Learning', 'Data Science', 'SQL', 'P...</td>\n",
       "      <td>Полный день</td>\n",
       "      <td>Полная занятость</td>\n",
       "      <td>Основные задачи:  Разработка, тестирование и в...</td>\n",
       "      <td>NaN</td>\n",
       "      <td>NaN</td>\n",
       "      <td>da</td>\n",
       "    </tr>\n",
       "    <tr>\n",
       "      <th>1181</th>\n",
       "      <td>98592181</td>\n",
       "      <td>Аналитик данных/Junior DATA SCIENTIST</td>\n",
       "      <td>2024-05-08 09:12:01</td>\n",
       "      <td>https://hh.ru/vacancy/98592181</td>\n",
       "      <td>Открытая</td>\n",
       "      <td>БиАйЭй-Технолоджиз</td>\n",
       "      <td>NaN</td>\n",
       "      <td>Москва</td>\n",
       "      <td>От 1 года до 3 лет</td>\n",
       "      <td>[]</td>\n",
       "      <td>Полный день</td>\n",
       "      <td>Полная занятость</td>\n",
       "      <td>Активно формируем новую команду для нашего кру...</td>\n",
       "      <td>NaN</td>\n",
       "      <td>NaN</td>\n",
       "      <td>da</td>\n",
       "    </tr>\n",
       "    <tr>\n",
       "      <th>775</th>\n",
       "      <td>98592181</td>\n",
       "      <td>Аналитик данных/Junior DATA SCIENTIST</td>\n",
       "      <td>2024-05-08 09:12:01</td>\n",
       "      <td>https://hh.ru/vacancy/98592181</td>\n",
       "      <td>Открытая</td>\n",
       "      <td>БиАйЭй-Технолоджиз</td>\n",
       "      <td>NaN</td>\n",
       "      <td>Москва</td>\n",
       "      <td>От 1 года до 3 лет</td>\n",
       "      <td>[]</td>\n",
       "      <td>Полный день</td>\n",
       "      <td>Полная занятость</td>\n",
       "      <td>Активно формируем новую команду для нашего кру...</td>\n",
       "      <td>NaN</td>\n",
       "      <td>NaN</td>\n",
       "      <td>ds</td>\n",
       "    </tr>\n",
       "  </tbody>\n",
       "</table>\n",
       "<p>115 rows × 16 columns</p>\n",
       "</div>"
      ],
      "text/plain": [
       "            id                                             name  \\\n",
       "56    91765959                   Дата аналитик (Data Scientist)   \n",
       "63    91765959                   Дата аналитик (Data Scientist)   \n",
       "64    91765960                   Дата аналитик (Data Scientist)   \n",
       "57    91765960                   Дата аналитик (Data Scientist)   \n",
       "70    92068025  Аналитик данных (data scientist, data engineer)   \n",
       "...        ...                                              ...   \n",
       "1160  98551181       Аналитик данных / Data Scientist (middle+)   \n",
       "774   98573757                   Аналитик данных/Data Scientist   \n",
       "1171  98573757                   Аналитик данных/Data Scientist   \n",
       "1181  98592181            Аналитик данных/Junior DATA SCIENTIST   \n",
       "775   98592181            Аналитик данных/Junior DATA SCIENTIST   \n",
       "\n",
       "            published_at                   alternate_url      type  \\\n",
       "56   2024-04-04 10:10:44  https://hh.ru/vacancy/91765959  Открытая   \n",
       "63   2024-04-04 10:10:44  https://hh.ru/vacancy/91765959  Открытая   \n",
       "64   2024-03-28 06:25:29  https://hh.ru/vacancy/91765960  Открытая   \n",
       "57   2024-03-28 06:25:29  https://hh.ru/vacancy/91765960  Открытая   \n",
       "70   2024-03-12 12:42:01  https://hh.ru/vacancy/92068025  Открытая   \n",
       "...                  ...                             ...       ...   \n",
       "1160 2024-05-07 14:36:58  https://hh.ru/vacancy/98551181  Открытая   \n",
       "774  2024-05-07 20:09:28  https://hh.ru/vacancy/98573757  Открытая   \n",
       "1171 2024-05-07 20:09:28  https://hh.ru/vacancy/98573757  Открытая   \n",
       "1181 2024-05-08 09:12:01  https://hh.ru/vacancy/98592181  Открытая   \n",
       "775  2024-05-08 09:12:01  https://hh.ru/vacancy/98592181  Открытая   \n",
       "\n",
       "                                               employer department  \\\n",
       "56                          Центр финансовых технологий        NaN   \n",
       "63                          Центр финансовых технологий        NaN   \n",
       "64                          Центр финансовых технологий        NaN   \n",
       "57                          Центр финансовых технологий        NaN   \n",
       "70    Федеральное государственное автономное учрежде...        NaN   \n",
       "...                                                 ...        ...   \n",
       "1160                             СИБУР, Группа компаний      Сибур   \n",
       "774                                   Консорциум Кодекс        NaN   \n",
       "1171                                  Консорциум Кодекс        NaN   \n",
       "1181                                 БиАйЭй-Технолоджиз        NaN   \n",
       "775                                  БиАйЭй-Технолоджиз        NaN   \n",
       "\n",
       "                 area           experience  \\\n",
       "56    Санкт-Петербург  Junior+ (1-3 years)   \n",
       "63    Санкт-Петербург  Junior+ (1-3 years)   \n",
       "64        Новосибирск  Junior+ (1-3 years)   \n",
       "57        Новосибирск  Junior+ (1-3 years)   \n",
       "70             Москва   Middle (3-6 years)   \n",
       "...               ...                  ...   \n",
       "1160           Москва        От 3 до 6 лет   \n",
       "774   Санкт-Петербург   От 1 года до 3 лет   \n",
       "1171  Санкт-Петербург   От 1 года до 3 лет   \n",
       "1181           Москва   От 1 года до 3 лет   \n",
       "775            Москва   От 1 года до 3 лет   \n",
       "\n",
       "                                             key_skills     schedule  \\\n",
       "56                                           ['Pandas']  Полный день   \n",
       "63                                           ['Pandas']  Полный день   \n",
       "64                                           ['Pandas']  Полный день   \n",
       "57                                           ['Pandas']  Полный день   \n",
       "70    ['Документация', 'Создание моделей', 'Оформлен...  Полный день   \n",
       "...                                                 ...          ...   \n",
       "1160     ['Python', 'SQL', 'Математическая статистика']  Полный день   \n",
       "774   ['Machine Learning', 'Data Science', 'SQL', 'P...  Полный день   \n",
       "1171  ['Machine Learning', 'Data Science', 'SQL', 'P...  Полный день   \n",
       "1181                                                 []  Полный день   \n",
       "775                                                  []  Полный день   \n",
       "\n",
       "            employment                                        description  \\\n",
       "56    Полная занятость  приглашаем в ml команду специалистов в области...   \n",
       "63    Полная занятость  приглашаем в ml команду специалистов в области...   \n",
       "64    Полная занятость  приглашаем в ml команду специалистов в области...   \n",
       "57    Полная занятость  приглашаем в ml команду специалистов в области...   \n",
       "70    Полная занятость  в настоящее время фгау «нии «цэпп» расширяет к...   \n",
       "...                ...                                                ...   \n",
       "1160  Полная занятость  СИБУР Диджитал - это цифровой кластер в состав...   \n",
       "774   Полная занятость  Основные задачи:  Разработка, тестирование и в...   \n",
       "1171  Полная занятость  Основные задачи:  Разработка, тестирование и в...   \n",
       "1181  Полная занятость  Активно формируем новую команду для нашего кру...   \n",
       "775   Полная занятость  Активно формируем новую команду для нашего кру...   \n",
       "\n",
       "      salary_from  salary_to name_type  \n",
       "56            NaN        NaN        da  \n",
       "63            NaN        NaN        ds  \n",
       "64            NaN        NaN        ds  \n",
       "57            NaN        NaN        da  \n",
       "70       100000.0        NaN        ds  \n",
       "...           ...        ...       ...  \n",
       "1160          NaN        NaN        da  \n",
       "774           NaN        NaN        ds  \n",
       "1171          NaN        NaN        da  \n",
       "1181          NaN        NaN        da  \n",
       "775           NaN        NaN        ds  \n",
       "\n",
       "[115 rows x 16 columns]"
      ]
     },
     "execution_count": 8,
     "metadata": {},
     "output_type": "execute_result"
    }
   ],
   "source": [
    "grid = vacancies.name.str.lower().str.contains(r'data scien') \\\n",
    "    & (vacancies.name.str.lower().str.contains(r'analyst') \\\n",
    "    | vacancies.name.str.lower().str.contains(r'аналитик'))\n",
    "vacancies[grid].sort_values(by='id')"
   ]
  },
  {
   "cell_type": "markdown",
   "metadata": {},
   "source": [
    "У нас 115 таких наблюдения, давайте их удалим."
   ]
  },
  {
   "cell_type": "code",
   "execution_count": 9,
   "metadata": {},
   "outputs": [],
   "source": [
    "vacancies = vacancies[~grid].sort_values(by='id')"
   ]
  },
  {
   "cell_type": "code",
   "execution_count": 16,
   "metadata": {},
   "outputs": [
    {
     "name": "stdout",
     "output_type": "stream",
     "text": [
      "Удалили 5.82% данных\n"
     ]
    }
   ],
   "source": [
    "print(f'Удалили {1 - vacancies.shape[0] / start_data_size:.2%} данных')"
   ]
  },
  {
   "cell_type": "markdown",
   "metadata": {},
   "source": [
    "---"
   ]
  },
  {
   "cell_type": "markdown",
   "metadata": {},
   "source": [
    "#### Создадим новую переменную `published_date`"
   ]
  },
  {
   "cell_type": "code",
   "execution_count": 17,
   "metadata": {},
   "outputs": [],
   "source": [
    "vacancies['published_date'] = vacancies.published_at.dt.date"
   ]
  },
  {
   "cell_type": "markdown",
   "metadata": {},
   "source": [
    "---"
   ]
  },
  {
   "cell_type": "markdown",
   "metadata": {},
   "source": [
    "#### Посмотрим наличие дубликатов"
   ]
  },
  {
   "cell_type": "code",
   "execution_count": 18,
   "metadata": {},
   "outputs": [
    {
     "name": "stdout",
     "output_type": "stream",
     "text": [
      "Количество дубликатов - 1\n"
     ]
    }
   ],
   "source": [
    "n_dupl = vacancies.duplicated(\n",
    "    subset='id'\n",
    ").sum()\n",
    "print(f'Количество дубликатов - {n_dupl}')"
   ]
  },
  {
   "cell_type": "markdown",
   "metadata": {},
   "source": [
    "Посмотрим на дубликаты"
   ]
  },
  {
   "cell_type": "code",
   "execution_count": 19,
   "metadata": {},
   "outputs": [
    {
     "data": {
      "text/html": [
       "<div>\n",
       "<style scoped>\n",
       "    .dataframe tbody tr th:only-of-type {\n",
       "        vertical-align: middle;\n",
       "    }\n",
       "\n",
       "    .dataframe tbody tr th {\n",
       "        vertical-align: top;\n",
       "    }\n",
       "\n",
       "    .dataframe thead th {\n",
       "        text-align: right;\n",
       "    }\n",
       "</style>\n",
       "<table border=\"1\" class=\"dataframe\">\n",
       "  <thead>\n",
       "    <tr style=\"text-align: right;\">\n",
       "      <th></th>\n",
       "      <th>id</th>\n",
       "      <th>name</th>\n",
       "      <th>published_at</th>\n",
       "      <th>alternate_url</th>\n",
       "      <th>type</th>\n",
       "      <th>employer</th>\n",
       "      <th>department</th>\n",
       "      <th>area</th>\n",
       "      <th>experience</th>\n",
       "      <th>key_skills</th>\n",
       "      <th>schedule</th>\n",
       "      <th>employment</th>\n",
       "      <th>description</th>\n",
       "      <th>salary_from</th>\n",
       "      <th>salary_to</th>\n",
       "      <th>name_type</th>\n",
       "      <th>published_date</th>\n",
       "    </tr>\n",
       "  </thead>\n",
       "  <tbody>\n",
       "    <tr>\n",
       "      <th>434</th>\n",
       "      <td>96061431</td>\n",
       "      <td>Data Scientist</td>\n",
       "      <td>2024-04-27 10:07:00</td>\n",
       "      <td>https://hh.ru/vacancy/96061431</td>\n",
       "      <td>Открытая</td>\n",
       "      <td>СБЕР</td>\n",
       "      <td>Сбер для экспертов</td>\n",
       "      <td>Москва</td>\n",
       "      <td>Middle (3-6 years)</td>\n",
       "      <td>[]</td>\n",
       "      <td>Полный день</td>\n",
       "      <td>Полная занятость</td>\n",
       "      <td>корпоративно-инвестиционный блок отвечает за р...</td>\n",
       "      <td>NaN</td>\n",
       "      <td>NaN</td>\n",
       "      <td>ds</td>\n",
       "      <td>2024-04-27</td>\n",
       "    </tr>\n",
       "    <tr>\n",
       "      <th>419</th>\n",
       "      <td>96061431</td>\n",
       "      <td>Аналитик данных (Голос клиента)</td>\n",
       "      <td>2024-04-27 10:07:00</td>\n",
       "      <td>https://hh.ru/vacancy/96061431</td>\n",
       "      <td>Открытая</td>\n",
       "      <td>СБЕР</td>\n",
       "      <td>Сбер для экспертов</td>\n",
       "      <td>Москва</td>\n",
       "      <td>От 3 до 6 лет</td>\n",
       "      <td>[]</td>\n",
       "      <td>Полный день</td>\n",
       "      <td>Полная занятость</td>\n",
       "      <td>Корпоративно-инвестиционный блок отвечает за р...</td>\n",
       "      <td>NaN</td>\n",
       "      <td>NaN</td>\n",
       "      <td>da</td>\n",
       "      <td>2024-04-27</td>\n",
       "    </tr>\n",
       "  </tbody>\n",
       "</table>\n",
       "</div>"
      ],
      "text/plain": [
       "           id                             name        published_at  \\\n",
       "434  96061431                   Data Scientist 2024-04-27 10:07:00   \n",
       "419  96061431  Аналитик данных (Голос клиента) 2024-04-27 10:07:00   \n",
       "\n",
       "                      alternate_url      type employer          department  \\\n",
       "434  https://hh.ru/vacancy/96061431  Открытая     СБЕР  Сбер для экспертов   \n",
       "419  https://hh.ru/vacancy/96061431  Открытая     СБЕР  Сбер для экспертов   \n",
       "\n",
       "       area          experience key_skills     schedule        employment  \\\n",
       "434  Москва  Middle (3-6 years)         []  Полный день  Полная занятость   \n",
       "419  Москва       От 3 до 6 лет         []  Полный день  Полная занятость   \n",
       "\n",
       "                                           description  salary_from  \\\n",
       "434  корпоративно-инвестиционный блок отвечает за р...          NaN   \n",
       "419  Корпоративно-инвестиционный блок отвечает за р...          NaN   \n",
       "\n",
       "     salary_to name_type published_date  \n",
       "434        NaN        ds     2024-04-27  \n",
       "419        NaN        da     2024-04-27  "
      ]
     },
     "execution_count": 19,
     "metadata": {},
     "output_type": "execute_result"
    }
   ],
   "source": [
    "vacancies[\n",
    "    vacancies.duplicated(\n",
    "        subset='id',\n",
    "        keep=False\n",
    "    )].sort_values(by=['name', 'employer', 'published_date'])"
   ]
  },
  {
   "cell_type": "markdown",
   "metadata": {},
   "source": [
    "Это одна и та же вакансия, судя по всему она сначала называлась Аналитик данных, а потом ее переименовали в Data Scientist, cтоит удалить эти наблюдения потому что не понятно к какой когорте их отнести."
   ]
  },
  {
   "cell_type": "code",
   "execution_count": 20,
   "metadata": {},
   "outputs": [],
   "source": [
    "vacancies.drop_duplicates(subset='id', keep=False, inplace=True)"
   ]
  },
  {
   "cell_type": "code",
   "execution_count": 21,
   "metadata": {},
   "outputs": [
    {
     "name": "stdout",
     "output_type": "stream",
     "text": [
      "Удалили 5.92% данных\n"
     ]
    }
   ],
   "source": [
    "print(f'Удалили {1 - vacancies.shape[0] / start_data_size:.2%} данных')"
   ]
  },
  {
   "cell_type": "markdown",
   "metadata": {},
   "source": [
    "Проверим есть ли у нас одинаковые вакансии, но с разным id"
   ]
  },
  {
   "cell_type": "code",
   "execution_count": 22,
   "metadata": {},
   "outputs": [
    {
     "data": {
      "text/html": [
       "<div>\n",
       "<style scoped>\n",
       "    .dataframe tbody tr th:only-of-type {\n",
       "        vertical-align: middle;\n",
       "    }\n",
       "\n",
       "    .dataframe tbody tr th {\n",
       "        vertical-align: top;\n",
       "    }\n",
       "\n",
       "    .dataframe thead th {\n",
       "        text-align: right;\n",
       "    }\n",
       "</style>\n",
       "<table border=\"1\" class=\"dataframe\">\n",
       "  <thead>\n",
       "    <tr style=\"text-align: right;\">\n",
       "      <th></th>\n",
       "      <th>id</th>\n",
       "      <th>name</th>\n",
       "      <th>published_at</th>\n",
       "      <th>alternate_url</th>\n",
       "      <th>type</th>\n",
       "      <th>employer</th>\n",
       "      <th>department</th>\n",
       "      <th>area</th>\n",
       "      <th>experience</th>\n",
       "      <th>key_skills</th>\n",
       "      <th>schedule</th>\n",
       "      <th>employment</th>\n",
       "      <th>description</th>\n",
       "      <th>salary_from</th>\n",
       "      <th>salary_to</th>\n",
       "      <th>name_type</th>\n",
       "      <th>published_date</th>\n",
       "    </tr>\n",
       "  </thead>\n",
       "  <tbody>\n",
       "    <tr>\n",
       "      <th>944</th>\n",
       "      <td>97929624</td>\n",
       "      <td>Аналитик данных</td>\n",
       "      <td>2024-04-25 17:24:21</td>\n",
       "      <td>https://hh.ru/vacancy/97929624</td>\n",
       "      <td>Открытая</td>\n",
       "      <td>ГКУ Центр занятости населения города Москвы</td>\n",
       "      <td>NaN</td>\n",
       "      <td>Москва</td>\n",
       "      <td>От 1 года до 3 лет</td>\n",
       "      <td>[]</td>\n",
       "      <td>Полный день</td>\n",
       "      <td>Полная занятость</td>\n",
       "      <td>Один из ключевых партнёров Центра занятости на...</td>\n",
       "      <td>150000.0</td>\n",
       "      <td>NaN</td>\n",
       "      <td>da</td>\n",
       "      <td>2024-04-25</td>\n",
       "    </tr>\n",
       "    <tr>\n",
       "      <th>945</th>\n",
       "      <td>97929739</td>\n",
       "      <td>Аналитик данных</td>\n",
       "      <td>2024-04-25 17:27:28</td>\n",
       "      <td>https://hh.ru/vacancy/97929739</td>\n",
       "      <td>Открытая</td>\n",
       "      <td>ГКУ Центр занятости населения города Москвы</td>\n",
       "      <td>NaN</td>\n",
       "      <td>Москва</td>\n",
       "      <td>От 1 года до 3 лет</td>\n",
       "      <td>[]</td>\n",
       "      <td>Полный день</td>\n",
       "      <td>Полная занятость</td>\n",
       "      <td>Один из ключевых партнёров Центра занятости на...</td>\n",
       "      <td>NaN</td>\n",
       "      <td>NaN</td>\n",
       "      <td>da</td>\n",
       "      <td>2024-04-25</td>\n",
       "    </tr>\n",
       "  </tbody>\n",
       "</table>\n",
       "</div>"
      ],
      "text/plain": [
       "           id             name        published_at  \\\n",
       "944  97929624  Аналитик данных 2024-04-25 17:24:21   \n",
       "945  97929739  Аналитик данных 2024-04-25 17:27:28   \n",
       "\n",
       "                      alternate_url      type  \\\n",
       "944  https://hh.ru/vacancy/97929624  Открытая   \n",
       "945  https://hh.ru/vacancy/97929739  Открытая   \n",
       "\n",
       "                                        employer department    area  \\\n",
       "944  ГКУ Центр занятости населения города Москвы        NaN  Москва   \n",
       "945  ГКУ Центр занятости населения города Москвы        NaN  Москва   \n",
       "\n",
       "             experience key_skills     schedule        employment  \\\n",
       "944  От 1 года до 3 лет         []  Полный день  Полная занятость   \n",
       "945  От 1 года до 3 лет         []  Полный день  Полная занятость   \n",
       "\n",
       "                                           description  salary_from  \\\n",
       "944  Один из ключевых партнёров Центра занятости на...     150000.0   \n",
       "945  Один из ключевых партнёров Центра занятости на...          NaN   \n",
       "\n",
       "     salary_to name_type published_date  \n",
       "944        NaN        da     2024-04-25  \n",
       "945        NaN        da     2024-04-25  "
      ]
     },
     "execution_count": 22,
     "metadata": {},
     "output_type": "execute_result"
    }
   ],
   "source": [
    "vacancies[\n",
    "    vacancies.duplicated(\n",
    "        subset=['name', 'published_date', 'employer', 'department', 'area', 'description'],\n",
    "        keep=False\n",
    "    )].sort_values(by=['name', 'employer', 'published_date'])"
   ]
  },
  {
   "cell_type": "markdown",
   "metadata": {},
   "source": [
    "Удалим дубликат"
   ]
  },
  {
   "cell_type": "code",
   "execution_count": 23,
   "metadata": {},
   "outputs": [],
   "source": [
    "vacancies.drop_duplicates(\n",
    "    subset=['name', 'published_date', 'employer', 'department', 'area', 'description'],\n",
    "    keep=False, inplace=True\n",
    ")"
   ]
  },
  {
   "cell_type": "code",
   "execution_count": 24,
   "metadata": {},
   "outputs": [
    {
     "name": "stdout",
     "output_type": "stream",
     "text": [
      "Удалили 6.03% данных\n"
     ]
    }
   ],
   "source": [
    "print(f'Удалили {1 - vacancies.shape[0] / start_data_size:.2%} данных')"
   ]
  },
  {
   "cell_type": "markdown",
   "metadata": {},
   "source": [
    "---"
   ]
  },
  {
   "cell_type": "markdown",
   "metadata": {},
   "source": [
    "Посмотрим какие названия вакансий у нас в датасете"
   ]
  },
  {
   "cell_type": "code",
   "execution_count": 25,
   "metadata": {},
   "outputs": [
    {
     "data": {
      "text/plain": [
       "name\n",
       "Аналитик данных            195\n",
       "Data Scientist             112\n",
       "Data Analyst                78\n",
       "Senior Data Scientist       24\n",
       "Data scientist              19\n",
       "Ведущий аналитик данных     16\n",
       "Middle Data Scientist       15\n",
       "Senior Data Analyst         13\n",
       "Junior Data Analyst         12\n",
       "Data analyst                11\n",
       "Name: count, dtype: int64"
      ]
     },
     "execution_count": 25,
     "metadata": {},
     "output_type": "execute_result"
    }
   ],
   "source": [
    "vacancies.name.value_counts()[:10]"
   ]
  },
  {
   "cell_type": "code",
   "execution_count": 27,
   "metadata": {},
   "outputs": [
    {
     "data": {
      "text/plain": [
       "name\n",
       "Руководитель отдела Data Science                                                 1\n",
       "Аналитик данных / bi-аналитик                                                    1\n",
       "Middle Data Scientist (Управление Комплаенс)                                     1\n",
       "Team lead Data Scientist, Маркетплейс, Контент и товары, Машинный перевод        1\n",
       "Product/Data Analyst (GigaCode)                                                  1\n",
       "Data Analyst (Customer Communication)                                            1\n",
       "Junior Data Scientist в SberData                                                 1\n",
       "Middle Data Scientist в Департамент \"Занять и сберегать\"                         1\n",
       "Data Analyst в Департамент данных и рекомендательных систем В2С                  1\n",
       "Специалист по математическому моделированию/аналитик данных/программист C++/R    1\n",
       "Name: count, dtype: int64"
      ]
     },
     "execution_count": 27,
     "metadata": {},
     "output_type": "execute_result"
    }
   ],
   "source": [
    "vacancies.name.value_counts()[-10:]"
   ]
  },
  {
   "cell_type": "markdown",
   "metadata": {},
   "source": [
    "Все просмотреть нет возможности, но тут вроде порядок."
   ]
  },
  {
   "cell_type": "markdown",
   "metadata": {},
   "source": [
    "---"
   ]
  },
  {
   "cell_type": "markdown",
   "metadata": {},
   "source": [
    "Посмотрим минимальные и максимальные даты"
   ]
  },
  {
   "cell_type": "code",
   "execution_count": 38,
   "metadata": {},
   "outputs": [
    {
     "name": "stdout",
     "output_type": "stream",
     "text": [
      "Минимальная дата - 2024-02-29 15:01:35\n",
      "Максимальная дата - 2024-05-08 13:54:28\n"
     ]
    }
   ],
   "source": [
    "print(f'Минимальная дата - {vacancies.published_at.min().strftime(\"%Y-%m-%d %X\")}')\n",
    "print(f'Максимальная дата - {vacancies.published_at.max().strftime(\"%Y-%m-%d %X\")}')"
   ]
  },
  {
   "cell_type": "markdown",
   "metadata": {},
   "source": [
    "---"
   ]
  },
  {
   "cell_type": "markdown",
   "metadata": {},
   "source": [
    "Посмотрим какие регионы присутствуют в нашем датасете"
   ]
  },
  {
   "cell_type": "code",
   "execution_count": 44,
   "metadata": {},
   "outputs": [
    {
     "data": {
      "text/plain": [
       "area\n",
       "Москва             765\n",
       "Санкт-Петербург     94\n",
       "Ташкент             26\n",
       "Екатеринбург        25\n",
       "Алматы              23\n",
       "Нижний Новгород     16\n",
       "Минск               16\n",
       "Новосибирск         15\n",
       "Владивосток         13\n",
       "Казань              12\n",
       "Краснодар           12\n",
       "Сербия              10\n",
       "Астана               9\n",
       "Ростов-на-Дону       6\n",
       "Тбилиси              6\n",
       "Бишкек               5\n",
       "Красноярск           4\n",
       "Владимир             4\n",
       "Самара               4\n",
       "Воронеж              4\n",
       "Саратов              4\n",
       "Челябинск            4\n",
       "Тюмень               4\n",
       "Пермь                3\n",
       "Ижевск               3\n",
       "Name: count, dtype: int64"
      ]
     },
     "execution_count": 44,
     "metadata": {},
     "output_type": "execute_result"
    }
   ],
   "source": [
    "vacancies[vacancies.name_type == 'da'].area.value_counts()[:25]"
   ]
  },
  {
   "cell_type": "markdown",
   "metadata": {},
   "source": [
    "---"
   ]
  },
  {
   "cell_type": "markdown",
   "metadata": {},
   "source": [
    "Посмотрим значения в переменной `experience`"
   ]
  },
  {
   "cell_type": "code",
   "execution_count": 48,
   "metadata": {},
   "outputs": [
    {
     "data": {
      "text/plain": [
       "experience\n",
       "От 1 года до 3 лет       774\n",
       "От 3 до 6 лет            527\n",
       "Junior+ (1-3 years)      207\n",
       "Middle (3-6 years)       195\n",
       "Нет опыта                 98\n",
       "Более 6 лет               25\n",
       "Junior (no experince)     18\n",
       "Senior (6+ years)         12\n",
       "Name: count, dtype: int64"
      ]
     },
     "execution_count": 48,
     "metadata": {},
     "output_type": "execute_result"
    }
   ],
   "source": [
    "vacancies.experience.value_counts()"
   ]
  },
  {
   "cell_type": "markdown",
   "metadata": {},
   "source": [
    "Привидем значения к общему виду"
   ]
  },
  {
   "cell_type": "code",
   "execution_count": 63,
   "metadata": {},
   "outputs": [],
   "source": [
    "def calc_experience(value):\n",
    "    if value[0] < 'А':\n",
    "        return value\n",
    "    expirience = re.findall(r'\\d', value)\n",
    "    if not expirience:\n",
    "        return 'Junior (no experince)'\n",
    "    if expirience[0] == '6':\n",
    "        return 'Senior (6+ years)'\n",
    "    if expirience[0] == '1':\n",
    "        return 'Junior+ (1-3 years)'\n",
    "    if expirience[0] == '3':\n",
    "        return 'Middle (3-6 years)'   "
   ]
  },
  {
   "cell_type": "code",
   "execution_count": 66,
   "metadata": {},
   "outputs": [],
   "source": [
    "vacancies.experience = vacancies.experience.map(calc_experience)"
   ]
  },
  {
   "cell_type": "markdown",
   "metadata": {},
   "source": [
    "---"
   ]
  },
  {
   "cell_type": "markdown",
   "metadata": {},
   "source": [
    "Посмотрим значения графика работы"
   ]
  },
  {
   "cell_type": "code",
   "execution_count": 74,
   "metadata": {},
   "outputs": [
    {
     "data": {
      "text/plain": [
       "schedule\n",
       "Полный день         1469\n",
       "Удаленная работа     312\n",
       "Гибкий график         64\n",
       "Сменный график        10\n",
       "Вахтовый метод         1\n",
       "Name: count, dtype: int64"
      ]
     },
     "execution_count": 74,
     "metadata": {},
     "output_type": "execute_result"
    }
   ],
   "source": [
    "vacancies.schedule.value_counts()"
   ]
  },
  {
   "cell_type": "markdown",
   "metadata": {},
   "source": [
    "Интересно посмотреть на вакансию с вахтовым методом:)"
   ]
  },
  {
   "cell_type": "code",
   "execution_count": 79,
   "metadata": {},
   "outputs": [
    {
     "data": {
      "text/plain": [
       "array(['Уважаемые соискатели, Мы в поиске сотрудника на строительный объект АГПЗ, город Свободный. Обязанности:  Актуализация базы данных по входному контролю; Выгрузка данных по запросам и проведение аналитики по полученным результатам; Формирование сводных таблиц для расчетов, расчет показателей с помощью формул.  Требования:  Высшее техническое или экономическое образование; Продвинутый пользователь MS Excel (сводные таблицы, макросы, формулы ВПР / ЕСЛИ / СУММЕСЛИ / СЧЕТЕСЛИ); Опыт работы с большими массивами данных; Желателен опыт работы в строительстве.  Условия:  Работа на строительном объекте (АГПЗ, г. Свободный, Амурская область); Официальное трудоустройство, оформление в соответствии с требованиями ТК РФ; Вахтовый метод работы 2 мес. / 1 мес.; Размещение в жилом вахтовом городке (отдельный санузел, душевая кабина в каждой комнате); Бесплатное 3-х разовое питание; Спортзал, прачечная, столовая, магазин на территории; Возможность принять участие в уникальном проекте. '],\n",
       "      dtype=object)"
      ]
     },
     "execution_count": 79,
     "metadata": {},
     "output_type": "execute_result"
    }
   ],
   "source": [
    "vacancies[vacancies.schedule == 'Вахтовый метод'].description.values"
   ]
  },
  {
   "cell_type": "markdown",
   "metadata": {},
   "source": [
    "---"
   ]
  },
  {
   "attachments": {},
   "cell_type": "markdown",
   "metadata": {},
   "source": [
    "Посмотрим какие значения принимает переменная `employment`"
   ]
  },
  {
   "cell_type": "code",
   "execution_count": 80,
   "metadata": {},
   "outputs": [
    {
     "data": {
      "text/plain": [
       "employment\n",
       "Полная занятость       1818\n",
       "Стажировка               27\n",
       "Частичная занятость       7\n",
       "Проектная работа          4\n",
       "Name: count, dtype: int64"
      ]
     },
     "execution_count": 80,
     "metadata": {},
     "output_type": "execute_result"
    }
   ],
   "source": [
    "vacancies.employment.value_counts()"
   ]
  },
  {
   "cell_type": "markdown",
   "metadata": {},
   "source": [
    "---"
   ]
  },
  {
   "cell_type": "code",
   "execution_count": 90,
   "metadata": {},
   "outputs": [],
   "source": [
    "vacancies.reset_index(drop=True, inplace=True)"
   ]
  },
  {
   "cell_type": "markdown",
   "metadata": {},
   "source": [
    "### Создадим необходимые переменные"
   ]
  },
  {
   "cell_type": "markdown",
   "metadata": {},
   "source": [
    "Проведем лемматизацию описания и результат сохраним в новый столбец `description_lemmatized`"
   ]
  },
  {
   "cell_type": "code",
   "execution_count": 115,
   "metadata": {},
   "outputs": [],
   "source": [
    "def lemmatize_corpus(description: pd.Series) -> pd.Series:\n",
    "    texts = ' br '.join(description.to_list())\n",
    "    \n",
    "    print('Запуск лематизации')\n",
    "    stem = Mystem()\n",
    "    text_lemm = stem.lemmatize(texts)\n",
    "    \n",
    "    data = []\n",
    "    temp = []\n",
    "    for word in tqdm(text_lemm):\n",
    "        if word == 'br':\n",
    "            data.append(' '.join([word for word in temp if word.isalpha()]))\n",
    "            temp = []\n",
    "        else:\n",
    "            temp.append(word)\n",
    "    data.append(' '.join([word for word in temp if word.isalpha()]))\n",
    "    data = pd.Series(data, name='description_lemmatized')\n",
    "    assert description.shape[0] == data.shape[0]\n",
    "    return data"
   ]
  },
  {
   "cell_type": "code",
   "execution_count": 116,
   "metadata": {},
   "outputs": [
    {
     "name": "stdout",
     "output_type": "stream",
     "text": [
      "Запуск лематизации\n"
     ]
    },
    {
     "data": {
      "application/vnd.jupyter.widget-view+json": {
       "model_id": "8a61d91161db4711b0d622bbdb170df9",
       "version_major": 2,
       "version_minor": 0
      },
      "text/plain": [
       "  0%|          | 0/970615 [00:00<?, ?it/s]"
      ]
     },
     "metadata": {},
     "output_type": "display_data"
    }
   ],
   "source": [
    "vacancies['description_lemmatized'] = lemmatize_corpus(vacancies.description)"
   ]
  },
  {
   "cell_type": "markdown",
   "metadata": {},
   "source": [
    "---"
   ]
  },
  {
   "cell_type": "markdown",
   "metadata": {},
   "source": [
    "Создадим переменную `salary_cat`, которая будет содержать категорию заработной платы."
   ]
  },
  {
   "cell_type": "code",
   "execution_count": null,
   "metadata": {},
   "outputs": [],
   "source": []
  },
  {
   "cell_type": "code",
   "execution_count": 120,
   "metadata": {},
   "outputs": [],
   "source": [
    "old = pd.read_excel('data/vacancies_da.xlsx')"
   ]
  },
  {
   "cell_type": "code",
   "execution_count": 122,
   "metadata": {},
   "outputs": [
    {
     "data": {
      "text/plain": [
       "salary_bin\n",
       "ЗП не указана                285\n",
       "От 200 тысяч до 300 тысяч     11\n",
       "Больше 300 тысяч               7\n",
       "От 100 тысяч до 200 тысяч      6\n",
       "Меньше 100 тысяч               1\n",
       "Name: count, dtype: int64"
      ]
     },
     "execution_count": 122,
     "metadata": {},
     "output_type": "execute_result"
    }
   ],
   "source": [
    "old.salary_bin.value_counts()"
   ]
  },
  {
   "cell_type": "code",
   "execution_count": null,
   "metadata": {},
   "outputs": [],
   "source": []
  }
 ],
 "metadata": {
  "colab": {
   "authorship_tag": "ABX9TyPGAp0RFTFlMarGqQXPA/14",
   "provenance": []
  },
  "kernelspec": {
   "display_name": "Python 3 (ipykernel)",
   "language": "python",
   "name": "python3"
  },
  "language_info": {
   "codemirror_mode": {
    "name": "ipython",
    "version": 3
   },
   "file_extension": ".py",
   "mimetype": "text/x-python",
   "name": "python",
   "nbconvert_exporter": "python",
   "pygments_lexer": "ipython3",
   "version": "3.10.14"
  },
  "widgets": {
   "application/vnd.jupyter.widget-state+json": {
    "072335903f344baaa13e60f8f6fd4aa2": {
     "model_module": "@jupyter-widgets/controls",
     "model_module_version": "1.5.0",
     "model_name": "DescriptionStyleModel",
     "state": {
      "_model_module": "@jupyter-widgets/controls",
      "_model_module_version": "1.5.0",
      "_model_name": "DescriptionStyleModel",
      "_view_count": null,
      "_view_module": "@jupyter-widgets/base",
      "_view_module_version": "1.2.0",
      "_view_name": "StyleView",
      "description_width": ""
     }
    },
    "222bc9b31feb4925a5b50748dcd84320": {
     "model_module": "@jupyter-widgets/controls",
     "model_module_version": "1.5.0",
     "model_name": "DescriptionStyleModel",
     "state": {
      "_model_module": "@jupyter-widgets/controls",
      "_model_module_version": "1.5.0",
      "_model_name": "DescriptionStyleModel",
      "_view_count": null,
      "_view_module": "@jupyter-widgets/base",
      "_view_module_version": "1.2.0",
      "_view_name": "StyleView",
      "description_width": ""
     }
    },
    "2ec0eb0d04744ed7928a5358a7007432": {
     "model_module": "@jupyter-widgets/base",
     "model_module_version": "1.2.0",
     "model_name": "LayoutModel",
     "state": {
      "_model_module": "@jupyter-widgets/base",
      "_model_module_version": "1.2.0",
      "_model_name": "LayoutModel",
      "_view_count": null,
      "_view_module": "@jupyter-widgets/base",
      "_view_module_version": "1.2.0",
      "_view_name": "LayoutView",
      "align_content": null,
      "align_items": null,
      "align_self": null,
      "border": null,
      "bottom": null,
      "display": null,
      "flex": null,
      "flex_flow": null,
      "grid_area": null,
      "grid_auto_columns": null,
      "grid_auto_flow": null,
      "grid_auto_rows": null,
      "grid_column": null,
      "grid_gap": null,
      "grid_row": null,
      "grid_template_areas": null,
      "grid_template_columns": null,
      "grid_template_rows": null,
      "height": null,
      "justify_content": null,
      "justify_items": null,
      "left": null,
      "margin": null,
      "max_height": null,
      "max_width": null,
      "min_height": null,
      "min_width": null,
      "object_fit": null,
      "object_position": null,
      "order": null,
      "overflow": null,
      "overflow_x": null,
      "overflow_y": null,
      "padding": null,
      "right": null,
      "top": null,
      "visibility": null,
      "width": null
     }
    },
    "3745bdc378414794941dc941eaa854fb": {
     "model_module": "@jupyter-widgets/base",
     "model_module_version": "1.2.0",
     "model_name": "LayoutModel",
     "state": {
      "_model_module": "@jupyter-widgets/base",
      "_model_module_version": "1.2.0",
      "_model_name": "LayoutModel",
      "_view_count": null,
      "_view_module": "@jupyter-widgets/base",
      "_view_module_version": "1.2.0",
      "_view_name": "LayoutView",
      "align_content": null,
      "align_items": null,
      "align_self": null,
      "border": null,
      "bottom": null,
      "display": null,
      "flex": null,
      "flex_flow": null,
      "grid_area": null,
      "grid_auto_columns": null,
      "grid_auto_flow": null,
      "grid_auto_rows": null,
      "grid_column": null,
      "grid_gap": null,
      "grid_row": null,
      "grid_template_areas": null,
      "grid_template_columns": null,
      "grid_template_rows": null,
      "height": null,
      "justify_content": null,
      "justify_items": null,
      "left": null,
      "margin": null,
      "max_height": null,
      "max_width": null,
      "min_height": null,
      "min_width": null,
      "object_fit": null,
      "object_position": null,
      "order": null,
      "overflow": null,
      "overflow_x": null,
      "overflow_y": null,
      "padding": null,
      "right": null,
      "top": null,
      "visibility": null,
      "width": null
     }
    },
    "43b893622aad4b9ea73450661bb8e21f": {
     "model_module": "@jupyter-widgets/controls",
     "model_module_version": "1.5.0",
     "model_name": "ProgressStyleModel",
     "state": {
      "_model_module": "@jupyter-widgets/controls",
      "_model_module_version": "1.5.0",
      "_model_name": "ProgressStyleModel",
      "_view_count": null,
      "_view_module": "@jupyter-widgets/base",
      "_view_module_version": "1.2.0",
      "_view_name": "StyleView",
      "bar_color": null,
      "description_width": ""
     }
    },
    "68dafdcba58741d987ebb4a36514b5ca": {
     "model_module": "@jupyter-widgets/base",
     "model_module_version": "1.2.0",
     "model_name": "LayoutModel",
     "state": {
      "_model_module": "@jupyter-widgets/base",
      "_model_module_version": "1.2.0",
      "_model_name": "LayoutModel",
      "_view_count": null,
      "_view_module": "@jupyter-widgets/base",
      "_view_module_version": "1.2.0",
      "_view_name": "LayoutView",
      "align_content": null,
      "align_items": null,
      "align_self": null,
      "border": null,
      "bottom": null,
      "display": null,
      "flex": null,
      "flex_flow": null,
      "grid_area": null,
      "grid_auto_columns": null,
      "grid_auto_flow": null,
      "grid_auto_rows": null,
      "grid_column": null,
      "grid_gap": null,
      "grid_row": null,
      "grid_template_areas": null,
      "grid_template_columns": null,
      "grid_template_rows": null,
      "height": null,
      "justify_content": null,
      "justify_items": null,
      "left": null,
      "margin": null,
      "max_height": null,
      "max_width": null,
      "min_height": null,
      "min_width": null,
      "object_fit": null,
      "object_position": null,
      "order": null,
      "overflow": null,
      "overflow_x": null,
      "overflow_y": null,
      "padding": null,
      "right": null,
      "top": null,
      "visibility": null,
      "width": null
     }
    },
    "7787a1aefdbe4b23a0536f4d04e0d6d5": {
     "model_module": "@jupyter-widgets/base",
     "model_module_version": "1.2.0",
     "model_name": "LayoutModel",
     "state": {
      "_model_module": "@jupyter-widgets/base",
      "_model_module_version": "1.2.0",
      "_model_name": "LayoutModel",
      "_view_count": null,
      "_view_module": "@jupyter-widgets/base",
      "_view_module_version": "1.2.0",
      "_view_name": "LayoutView",
      "align_content": null,
      "align_items": null,
      "align_self": null,
      "border": null,
      "bottom": null,
      "display": null,
      "flex": null,
      "flex_flow": null,
      "grid_area": null,
      "grid_auto_columns": null,
      "grid_auto_flow": null,
      "grid_auto_rows": null,
      "grid_column": null,
      "grid_gap": null,
      "grid_row": null,
      "grid_template_areas": null,
      "grid_template_columns": null,
      "grid_template_rows": null,
      "height": null,
      "justify_content": null,
      "justify_items": null,
      "left": null,
      "margin": null,
      "max_height": null,
      "max_width": null,
      "min_height": null,
      "min_width": null,
      "object_fit": null,
      "object_position": null,
      "order": null,
      "overflow": null,
      "overflow_x": null,
      "overflow_y": null,
      "padding": null,
      "right": null,
      "top": null,
      "visibility": null,
      "width": null
     }
    },
    "7cbe360faaa04861beebc52807eda1ed": {
     "model_module": "@jupyter-widgets/controls",
     "model_module_version": "1.5.0",
     "model_name": "HBoxModel",
     "state": {
      "_dom_classes": [],
      "_model_module": "@jupyter-widgets/controls",
      "_model_module_version": "1.5.0",
      "_model_name": "HBoxModel",
      "_view_count": null,
      "_view_module": "@jupyter-widgets/controls",
      "_view_module_version": "1.5.0",
      "_view_name": "HBoxView",
      "box_style": "",
      "children": [
       "IPY_MODEL_c5f7f0ac91e2476c81c870b6f6d39461",
       "IPY_MODEL_acaf5b24795241dd8d349bb67afc6d20",
       "IPY_MODEL_d59c25fcec2b45f289fa1abfa065909f"
      ],
      "layout": "IPY_MODEL_68dafdcba58741d987ebb4a36514b5ca"
     }
    },
    "acaf5b24795241dd8d349bb67afc6d20": {
     "model_module": "@jupyter-widgets/controls",
     "model_module_version": "1.5.0",
     "model_name": "FloatProgressModel",
     "state": {
      "_dom_classes": [],
      "_model_module": "@jupyter-widgets/controls",
      "_model_module_version": "1.5.0",
      "_model_name": "FloatProgressModel",
      "_view_count": null,
      "_view_module": "@jupyter-widgets/controls",
      "_view_module_version": "1.5.0",
      "_view_name": "ProgressView",
      "bar_style": "success",
      "description": "",
      "description_tooltip": null,
      "layout": "IPY_MODEL_7787a1aefdbe4b23a0536f4d04e0d6d5",
      "max": 441,
      "min": 0,
      "orientation": "horizontal",
      "style": "IPY_MODEL_43b893622aad4b9ea73450661bb8e21f",
      "value": 441
     }
    },
    "c5f7f0ac91e2476c81c870b6f6d39461": {
     "model_module": "@jupyter-widgets/controls",
     "model_module_version": "1.5.0",
     "model_name": "HTMLModel",
     "state": {
      "_dom_classes": [],
      "_model_module": "@jupyter-widgets/controls",
      "_model_module_version": "1.5.0",
      "_model_name": "HTMLModel",
      "_view_count": null,
      "_view_module": "@jupyter-widgets/controls",
      "_view_module_version": "1.5.0",
      "_view_name": "HTMLView",
      "description": "",
      "description_tooltip": null,
      "layout": "IPY_MODEL_3745bdc378414794941dc941eaa854fb",
      "placeholder": "​",
      "style": "IPY_MODEL_222bc9b31feb4925a5b50748dcd84320",
      "value": "100%"
     }
    },
    "d59c25fcec2b45f289fa1abfa065909f": {
     "model_module": "@jupyter-widgets/controls",
     "model_module_version": "1.5.0",
     "model_name": "HTMLModel",
     "state": {
      "_dom_classes": [],
      "_model_module": "@jupyter-widgets/controls",
      "_model_module_version": "1.5.0",
      "_model_name": "HTMLModel",
      "_view_count": null,
      "_view_module": "@jupyter-widgets/controls",
      "_view_module_version": "1.5.0",
      "_view_name": "HTMLView",
      "description": "",
      "description_tooltip": null,
      "layout": "IPY_MODEL_2ec0eb0d04744ed7928a5358a7007432",
      "placeholder": "​",
      "style": "IPY_MODEL_072335903f344baaa13e60f8f6fd4aa2",
      "value": " 441/441 [09:19&lt;00:00,  1.28s/it]"
     }
    }
   }
  }
 },
 "nbformat": 4,
 "nbformat_minor": 4
}
